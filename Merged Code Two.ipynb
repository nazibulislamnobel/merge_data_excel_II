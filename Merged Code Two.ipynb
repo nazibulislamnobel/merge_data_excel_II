{
 "cells": [
  {
   "cell_type": "code",
   "execution_count": 9,
   "id": "82240b88",
   "metadata": {},
   "outputs": [],
   "source": [
    "import os\n",
    "import pandas as pd"
   ]
  },
  {
   "cell_type": "code",
   "execution_count": 10,
   "id": "63e12fb8",
   "metadata": {},
   "outputs": [],
   "source": [
    "folder_path = 'C:\\\\Nobel\\\\NEED Attention'"
   ]
  },
  {
   "cell_type": "code",
   "execution_count": 11,
   "id": "0e01747f",
   "metadata": {},
   "outputs": [],
   "source": [
    "import re\n",
    "\n",
    "merge_file_path = \"D:\\\\ULys\\\\6 Months Customer.xlsx\"\n",
    "merge_df = pd.read_excel(merge_file_path)\n",
    "\n",
    "for file_name in os.listdir(folder_path):\n",
    "    if file_name.endswith('.xlsx') or file_name.endswith('.xls'):\n",
    "        file_path = os.path.join(folder_path, file_name)\n",
    "        df = pd.read_excel(file_path)\n",
    "\n",
    "        df['Loyalty ID'] = df['Loyalty ID'].astype(str)\n",
    "\n",
    "        df['Loyalty ID'] = df['Loyalty ID'].apply(lambda x: re.findall(r'\\d{10}$', str(x))[0] if re.findall(r'\\d{10}$', str(x)) else x)\n",
    "\n",
    "        merged_df = pd.merge(df, merge_df, on='Loyalty ID', how='left')\n",
    "        \n",
    "        output_file_name = 'F' + file_name\n",
    "\n",
    "        output_file_path = os.path.join(folder_path, output_file_name)\n",
    "        merged_df.to_excel(output_file_path, index=False)"
   ]
  }
 ],
 "metadata": {
  "kernelspec": {
   "display_name": "Python 3 (ipykernel)",
   "language": "python",
   "name": "python3"
  },
  "language_info": {
   "codemirror_mode": {
    "name": "ipython",
    "version": 3
   },
   "file_extension": ".py",
   "mimetype": "text/x-python",
   "name": "python",
   "nbconvert_exporter": "python",
   "pygments_lexer": "ipython3",
   "version": "3.10.9"
  }
 },
 "nbformat": 4,
 "nbformat_minor": 5
}
